{
 "cells": [
  {
   "cell_type": "markdown",
   "id": "e7dd4ac6-bd60-42d5-a740-5f659b2d5c04",
   "metadata": {},
   "source": [
    "## LIST ARE ORDERED"
   ]
  },
  {
   "cell_type": "code",
   "execution_count": 1,
   "id": "4ea154e3-3d15-4c08-82d5-69eaefce86dd",
   "metadata": {},
   "outputs": [
    {
     "data": {
      "text/plain": [
       "False"
      ]
     },
     "execution_count": 1,
     "metadata": {},
     "output_type": "execute_result"
    }
   ],
   "source": [
    "a = ['Ani', 'Budi', 'Cantika', 'Dimin', 'Enji']\n",
    "b = ['Enji', 'Dimin', 'Cantika', 'Budi', 'Ani']\n",
    "\n",
    "a == b"
   ]
  },
  {
   "cell_type": "code",
   "execution_count": 4,
   "id": "64eabed8-7215-4192-b12e-71339f8a17e6",
   "metadata": {},
   "outputs": [
    {
     "data": {
      "text/plain": [
       "True"
      ]
     },
     "execution_count": 4,
     "metadata": {},
     "output_type": "execute_result"
    }
   ],
   "source": [
    "a = ['Ani', 'Budi', 'Cantika', 'Dimin', 'Enji']\n",
    "b = ['Ani', 'Budi', 'Cantika', 'Dimin', 'Enji']\n",
    "\n",
    "a == b"
   ]
  },
  {
   "cell_type": "code",
   "execution_count": null,
   "id": "1042e730-85ad-4d4e-a147-74467962289b",
   "metadata": {},
   "outputs": [],
   "source": []
  },
  {
   "cell_type": "markdown",
   "id": "ed3a33ea-6ae9-41ec-b530-fe19f597d740",
   "metadata": {},
   "source": [
    "## LIST CAN CONTAIN ARBITRARY OBJECTS"
   ]
  },
  {
   "cell_type": "code",
   "execution_count": 26,
   "id": "dff06ffa-26ee-4b29-97d3-644dd07906c3",
   "metadata": {},
   "outputs": [
    {
     "name": "stdout",
     "output_type": "stream",
     "text": [
      "['Ani', 120, 'Cantika', True, 'Enji']\n"
     ]
    }
   ],
   "source": [
    "a = ['Ani', 120, 'Cantika', True, 'Enji']\n",
    "print (a)"
   ]
  },
  {
   "cell_type": "code",
   "execution_count": null,
   "id": "0ae15970-d9fa-49ac-882b-464c0e207b6f",
   "metadata": {},
   "outputs": [],
   "source": []
  },
  {
   "cell_type": "code",
   "execution_count": 25,
   "id": "a7e853d3-8476-4bf7-a64f-1f420f4e1a0d",
   "metadata": {},
   "outputs": [
    {
     "name": "stdout",
     "output_type": "stream",
     "text": [
      "['Nusantara = 145.7']\n",
      "['Delicious = 159.5']\n",
      "['Nasional = 156']\n"
     ]
    }
   ],
   "source": [
    "a = ['Nusantara = 145.7']\n",
    "print (a)\n",
    "b = ['Delicious = 159.5']\n",
    "print (b)\n",
    "c = ['Nasional = 156']\n",
    "print (c)"
   ]
  },
  {
   "cell_type": "code",
   "execution_count": null,
   "id": "5bea8ac6-aa84-4c26-a0b1-e93304c6e367",
   "metadata": {},
   "outputs": [],
   "source": []
  },
  {
   "cell_type": "code",
   "execution_count": null,
   "id": "7eda54bc-39ca-460b-8fd9-3f0092f0f634",
   "metadata": {},
   "outputs": [],
   "source": []
  },
  {
   "cell_type": "markdown",
   "id": "1450a80c-1ef0-4a30-97e1-42662fa30dce",
   "metadata": {},
   "source": [
    "## LIST ELEMENTS CAN BE ACCESSED by INDEX"
   ]
  },
  {
   "cell_type": "code",
   "execution_count": 28,
   "id": "9af534eb-8eb0-49a9-87f5-7a48ba958d1b",
   "metadata": {},
   "outputs": [
    {
     "name": "stdout",
     "output_type": "stream",
     "text": [
      "Budi\n",
      "Enji\n"
     ]
    }
   ],
   "source": [
    "a = ['Ani', 'Budi', 'Cantika', 'Dimin', 'Enji']\n",
    "\n",
    "print (a[1])\n",
    "print (a[4])"
   ]
  },
  {
   "cell_type": "code",
   "execution_count": 29,
   "id": "18a6dd87-24b0-4551-8634-0a40f9316d30",
   "metadata": {},
   "outputs": [
    {
     "name": "stdout",
     "output_type": "stream",
     "text": [
      "Enji\n",
      "Ani\n"
     ]
    }
   ],
   "source": [
    "print (a[-1])\n",
    "print (a[-5])"
   ]
  },
  {
   "cell_type": "code",
   "execution_count": 30,
   "id": "1a17b06a-0f29-4ecb-b512-06289a09f379",
   "metadata": {},
   "outputs": [
    {
     "name": "stdout",
     "output_type": "stream",
     "text": [
      "['Budi', 'Cantika', 'Dimin']\n"
     ]
    }
   ],
   "source": [
    "print (a[1:4])"
   ]
  },
  {
   "cell_type": "code",
   "execution_count": 36,
   "id": "b8cdaffd-10da-488c-9066-ecb8483163f8",
   "metadata": {},
   "outputs": [
    {
     "name": "stdout",
     "output_type": "stream",
     "text": [
      "['Ani', 'Budi', 'Cantika', 'Dimin', 'Enji', 'Fanie', 1992]\n",
      "['Ani', 'Budi', 'Cantika', 'Dimin', 'Enji', 'Fanie', 1992, 'Fanie', 1992]\n",
      "['Ani', 'Budi', 'Cantika', 'Dimin', 'Enji', 'Fanie', 1992, 'Ani', 'Budi', 'Cantika', 'Dimin', 'Enji', 'Fanie', 1992]\n"
     ]
    }
   ],
   "source": [
    "print (a + ['Fanie', 1992])\n",
    "print (a + ['Fanie', 1992] * 2)\n",
    "print ((a + ['Fanie', 1992]) * 2)"
   ]
  },
  {
   "cell_type": "code",
   "execution_count": 41,
   "id": "2d5341df-77f0-4f27-9145-ce48f97f427f",
   "metadata": {},
   "outputs": [
    {
     "name": "stdout",
     "output_type": "stream",
     "text": [
      "['Ani', 'Budi', 'Cantika', 'Dimin', 'Enji', 'Fanie', 1992, 'Ani', 'Budi', 'Cantika', 'Dimin', 'Enji', 'Fanie', 1992]\n",
      "14\n",
      "Ani\n",
      "Fanie\n"
     ]
    }
   ],
   "source": [
    "print ((a + ['Fanie', 1992]) * 2)\n",
    "print (len(a + ['Fanie', 1992]) * 2)\n",
    "print (min(a + ['Fanie']))\n",
    "print (max(a + ['Fanie']))"
   ]
  },
  {
   "cell_type": "code",
   "execution_count": null,
   "id": "52258625-ece4-4c60-8f10-624bc47b45f1",
   "metadata": {},
   "outputs": [],
   "source": []
  },
  {
   "cell_type": "markdown",
   "id": "7f7a730f-137b-4b77-8435-1d86081e1191",
   "metadata": {},
   "source": [
    "## MODIFYING a SINGLE LIST VALUE"
   ]
  },
  {
   "cell_type": "code",
   "execution_count": 63,
   "id": "8f79704c-5140-41af-b11b-68eec10b739d",
   "metadata": {},
   "outputs": [
    {
     "name": "stdout",
     "output_type": "stream",
     "text": [
      "['Ani', 'Budi', 'Cantika', 'Dimin', 'Enji']\n",
      "['Ani', 'Budi', 135.35, 10, 'Enji']\n"
     ]
    }
   ],
   "source": [
    "a = ['Ani', 'Budi', 'Cantika', 'Dimin', 'Enji']\n",
    "print (a)\n",
    "\n",
    "a [2] = 135.35\n",
    "a [-2] = 10\n",
    "print (a)"
   ]
  },
  {
   "cell_type": "code",
   "execution_count": 70,
   "id": "54ab095b-5d4d-4ebf-8870-0be5869374ff",
   "metadata": {},
   "outputs": [
    {
     "name": "stdout",
     "output_type": "stream",
     "text": [
      "['Budi', 'Cantika', 'Dimin', 'Enji']\n"
     ]
    }
   ],
   "source": [
    "a = ['Ani', 'Budi', 'Cantika', 'Dimin', 'Enji']\n",
    "\n",
    "del a[0]\n",
    "print (a)"
   ]
  },
  {
   "cell_type": "code",
   "execution_count": 71,
   "id": "425cf636-1564-4036-b609-408461913bb2",
   "metadata": {},
   "outputs": [],
   "source": [
    "# Bagaimana cara mengembalikan list yang telah terhapus?"
   ]
  },
  {
   "cell_type": "code",
   "execution_count": 78,
   "id": "a6408ace-396d-42f8-8583-bbf76e6054cf",
   "metadata": {},
   "outputs": [
    {
     "name": "stdout",
     "output_type": "stream",
     "text": [
      "('Ani', 'Budi', 'Cantika', 'Dimin', 'Enji')\n"
     ]
    }
   ],
   "source": [
    "t = ('Ani', 'Budi', 'Cantika', 'Dimin', 'Enji')\n",
    "print (t)"
   ]
  },
  {
   "cell_type": "code",
   "execution_count": 77,
   "id": "2062f1ab-f5f1-4747-ae31-49ac8ba43a90",
   "metadata": {},
   "outputs": [
    {
     "name": "stdout",
     "output_type": "stream",
     "text": [
      "('Ani', 'Sule', 'Cantika', 'Dimin', 'Enji')\n"
     ]
    }
   ],
   "source": [
    "print (t)"
   ]
  },
  {
   "cell_type": "code",
   "execution_count": null,
   "id": "bda0c840-7810-4b5b-a271-13440dad79e2",
   "metadata": {},
   "outputs": [],
   "source": []
  },
  {
   "cell_type": "markdown",
   "id": "a852d855-5a1a-481a-b8cd-e34fcd356f5a",
   "metadata": {},
   "source": [
    "## PYTHON DICTIONARY"
   ]
  },
  {
   "cell_type": "code",
   "execution_count": 98,
   "id": "7165c8a4-ad6b-46ed-8c04-954dec62d6af",
   "metadata": {},
   "outputs": [
    {
     "name": "stdout",
     "output_type": "stream",
     "text": [
      "145.7\n",
      "150\n",
      "126.5\n"
     ]
    }
   ],
   "source": [
    "Krupuk_Lokal = {\n",
    "    'Nusantara' : '145.7',\n",
    "    'Nasional' : '156',\n",
    "    'Delicious' : '159.5',\n",
    "    'Bawal' : '153',\n",
    "    'Bawang' : '150',\n",
    "    'Super' : '126.5'\n",
    "}\n",
    "\n",
    "print (Krupuk_Lokal['Nusantara'])\n",
    "print (Krupuk_Lokal['Bawang'])\n",
    "print (Krupuk_Lokal['Super'])"
   ]
  },
  {
   "cell_type": "code",
   "execution_count": 96,
   "id": "bfc7818a-84db-4be2-93c1-4330ea1ecd82",
   "metadata": {},
   "outputs": [
    {
     "name": "stdout",
     "output_type": "stream",
     "text": [
      "{'Nusantara': '145.7', 'Nasional': '156', 'Delicious': '159.5', 'Bawal': '153', 'Super': '126.5'}\n"
     ]
    }
   ],
   "source": [
    "print (Krupuk_Lokal)"
   ]
  },
  {
   "cell_type": "code",
   "execution_count": 99,
   "id": "c99285cd-44e5-43f5-8b79-d72c550cb37c",
   "metadata": {},
   "outputs": [
    {
     "data": {
      "text/plain": [
       "{'Nusantara': '145.7',\n",
       " 'Nasional': '156',\n",
       " 'Delicious': '159.5',\n",
       " 'Bawal': '153',\n",
       " 'Bawang': '150',\n",
       " 'Super': '126.5'}"
      ]
     },
     "execution_count": 99,
     "metadata": {},
     "output_type": "execute_result"
    }
   ],
   "source": [
    "Krupuk_Lokal"
   ]
  },
  {
   "cell_type": "code",
   "execution_count": null,
   "id": "461df108-7e89-402b-9529-8a2f2094e342",
   "metadata": {},
   "outputs": [],
   "source": []
  }
 ],
 "metadata": {
  "kernelspec": {
   "display_name": "Python 3 (ipykernel)",
   "language": "python",
   "name": "python3"
  },
  "language_info": {
   "codemirror_mode": {
    "name": "ipython",
    "version": 3
   },
   "file_extension": ".py",
   "mimetype": "text/x-python",
   "name": "python",
   "nbconvert_exporter": "python",
   "pygments_lexer": "ipython3",
   "version": "3.9.7"
  }
 },
 "nbformat": 4,
 "nbformat_minor": 5
}
