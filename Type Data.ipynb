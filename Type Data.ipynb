{
 "cells": [
  {
   "cell_type": "markdown",
   "id": "53b0d7e3-50b8-437a-8630-f76ba1a94007",
   "metadata": {},
   "source": [
    "## INTEGERS"
   ]
  },
  {
   "cell_type": "code",
   "execution_count": 6,
   "id": "48ac87fa-8c43-4985-a1a3-9c0d03fd653d",
   "metadata": {},
   "outputs": [
    {
     "name": "stdout",
     "output_type": "stream",
     "text": [
      "1993\n",
      "<class 'int'>\n"
     ]
    }
   ],
   "source": [
    "print ((1992) + 1)\n",
    "print (type(1992))"
   ]
  },
  {
   "cell_type": "code",
   "execution_count": null,
   "id": "210c4f09-cff3-4094-a4b8-93d670649f2c",
   "metadata": {},
   "outputs": [],
   "source": []
  },
  {
   "cell_type": "markdown",
   "id": "2b208ab3-2b64-4349-a084-feec5577b33d",
   "metadata": {},
   "source": [
    "## FLOATING"
   ]
  },
  {
   "cell_type": "code",
   "execution_count": 14,
   "id": "f7f5b3bf-c647-4c22-8c27-c5ea006e03f4",
   "metadata": {},
   "outputs": [
    {
     "name": "stdout",
     "output_type": "stream",
     "text": [
      "150.02\n",
      "<class 'float'>\n"
     ]
    }
   ],
   "source": [
    "print (150.02)\n",
    "print (type(150.02))"
   ]
  },
  {
   "cell_type": "code",
   "execution_count": 39,
   "id": "aacf1590-01d5-4561-a066-c612097df91d",
   "metadata": {},
   "outputs": [],
   "source": [
    "# Tolong jelaskan mengenai penggunaan E/e"
   ]
  },
  {
   "cell_type": "markdown",
   "id": "95caa505-0565-4948-a546-cd0748a4d475",
   "metadata": {},
   "source": [
    "## STRINGS"
   ]
  },
  {
   "cell_type": "code",
   "execution_count": 40,
   "id": "98cf6204-8b26-4352-bea5-f4bd4e9e00a3",
   "metadata": {},
   "outputs": [
    {
     "name": "stdout",
     "output_type": "stream",
     "text": [
      "Ikut kelas di 'Hacktiv 8', dijamin tidak menyesal\n",
      "<class 'str'>\n"
     ]
    }
   ],
   "source": [
    "print (\"Ikut kelas di 'Hacktiv 8', dijamin tidak menyesal\")\n",
    "print (type(\"Ikut kelas di 'Hacktiv 8', dijamin tidak menyesal\"))"
   ]
  },
  {
   "cell_type": "code",
   "execution_count": null,
   "id": "dca71755-8997-43f2-ba0a-1cd42aa61a63",
   "metadata": {},
   "outputs": [],
   "source": []
  },
  {
   "cell_type": "markdown",
   "id": "167e8e3d-9a0e-437c-8c04-6687695b454a",
   "metadata": {},
   "source": [
    "## BOOLEAN"
   ]
  },
  {
   "cell_type": "code",
   "execution_count": 36,
   "id": "f77b5611-a7b6-4aa7-a446-51a15eab7e7e",
   "metadata": {},
   "outputs": [
    {
     "name": "stdout",
     "output_type": "stream",
     "text": [
      "<class 'bool'>\n",
      "<class 'bool'>\n"
     ]
    }
   ],
   "source": [
    "print (type(True))\n",
    "print (type(False))"
   ]
  },
  {
   "cell_type": "code",
   "execution_count": 37,
   "id": "6981599d-4af1-424b-8256-e6103be5f933",
   "metadata": {},
   "outputs": [],
   "source": [
    "# Kenapa saat ketik TRUE-FALSE & true-false menjadi error?"
   ]
  },
  {
   "cell_type": "code",
   "execution_count": null,
   "id": "778a3745-e9f8-49d2-8251-3db4fc02ba62",
   "metadata": {},
   "outputs": [],
   "source": []
  }
 ],
 "metadata": {
  "kernelspec": {
   "display_name": "Python 3 (ipykernel)",
   "language": "python",
   "name": "python3"
  },
  "language_info": {
   "codemirror_mode": {
    "name": "ipython",
    "version": 3
   },
   "file_extension": ".py",
   "mimetype": "text/x-python",
   "name": "python",
   "nbconvert_exporter": "python",
   "pygments_lexer": "ipython3",
   "version": "3.9.7"
  }
 },
 "nbformat": 4,
 "nbformat_minor": 5
}
